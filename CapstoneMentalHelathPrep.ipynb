{
 "cells": [
  {
   "cell_type": "code",
   "execution_count": 434,
   "id": "e344d8c3",
   "metadata": {},
   "outputs": [],
   "source": [
    "import pandas as pd\n",
    "import numpy as np\n",
    "\n",
    "import matplotlib\n",
    "import matplotlib.pyplot as plt\n",
    "import seaborn as sns\n",
    "import plotly.express as px\n",
    "import plotly.graph_objects as go\n",
    "%matplotlib inline"
   ]
  },
  {
   "cell_type": "code",
   "execution_count": 496,
   "id": "5581a3a9",
   "metadata": {
    "scrolled": true
   },
   "outputs": [],
   "source": [
    "mentalHealth = pd.read_csv('MentalHealthData.csv', sep=',')\n",
    "#mentalHealth"
   ]
  },
  {
   "cell_type": "markdown",
   "id": "31f00214",
   "metadata": {},
   "source": [
    "# Cleaning the data"
   ]
  },
  {
   "cell_type": "code",
   "execution_count": 497,
   "id": "c251f16b",
   "metadata": {
    "scrolled": true
   },
   "outputs": [],
   "source": [
    "# The recording date ('Timestamp') is not of interest in this analysis\n",
    "# All data is within a 2 year period\n",
    "# Comments will be used in with later analysis but not needed for any testing\n",
    "# States can be considered later if looking at US data specificaly but not important at the moment\n",
    "mentalHealth = mentalHealth.drop('Timestamp', axis=1)\n",
    "mentalHealth = mentalHealth.drop('comments', axis=1)\n",
    "mentalHealth = mentalHealth.drop('state', axis=1)"
   ]
  },
  {
   "cell_type": "code",
   "execution_count": 569,
   "id": "772431c2",
   "metadata": {
    "scrolled": true
   },
   "outputs": [
    {
     "data": {
      "text/html": [
       "<div>\n",
       "<style scoped>\n",
       "    .dataframe tbody tr th:only-of-type {\n",
       "        vertical-align: middle;\n",
       "    }\n",
       "\n",
       "    .dataframe tbody tr th {\n",
       "        vertical-align: top;\n",
       "    }\n",
       "\n",
       "    .dataframe thead th {\n",
       "        text-align: right;\n",
       "    }\n",
       "</style>\n",
       "<table border=\"1\" class=\"dataframe\">\n",
       "  <thead>\n",
       "    <tr style=\"text-align: right;\">\n",
       "      <th></th>\n",
       "      <th>Age</th>\n",
       "      <th>Gender</th>\n",
       "      <th>Country</th>\n",
       "      <th>self_employed</th>\n",
       "      <th>family_history</th>\n",
       "      <th>treatment</th>\n",
       "      <th>work_interfere</th>\n",
       "      <th>no_employees</th>\n",
       "      <th>remote_work</th>\n",
       "      <th>tech_company</th>\n",
       "      <th>...</th>\n",
       "      <th>anonymity</th>\n",
       "      <th>leave</th>\n",
       "      <th>mental_health_consequence</th>\n",
       "      <th>phys_health_consequence</th>\n",
       "      <th>coworkers</th>\n",
       "      <th>supervisor</th>\n",
       "      <th>mental_health_interview</th>\n",
       "      <th>phys_health_interview</th>\n",
       "      <th>mental_vs_physical</th>\n",
       "      <th>obs_consequence</th>\n",
       "    </tr>\n",
       "  </thead>\n",
       "  <tbody>\n",
       "    <tr>\n",
       "      <th>18</th>\n",
       "      <td>46</td>\n",
       "      <td>Male</td>\n",
       "      <td>United States</td>\n",
       "      <td>Yes</td>\n",
       "      <td>Yes</td>\n",
       "      <td>No</td>\n",
       "      <td>Sometimes</td>\n",
       "      <td>1-5</td>\n",
       "      <td>Yes</td>\n",
       "      <td>Yes</td>\n",
       "      <td>...</td>\n",
       "      <td>Yes</td>\n",
       "      <td>Very easy</td>\n",
       "      <td>No</td>\n",
       "      <td>No</td>\n",
       "      <td>Yes</td>\n",
       "      <td>Yes</td>\n",
       "      <td>No</td>\n",
       "      <td>Yes</td>\n",
       "      <td>Yes</td>\n",
       "      <td>Yes</td>\n",
       "    </tr>\n",
       "    <tr>\n",
       "      <th>19</th>\n",
       "      <td>36</td>\n",
       "      <td>Male</td>\n",
       "      <td>France</td>\n",
       "      <td>Yes</td>\n",
       "      <td>Yes</td>\n",
       "      <td>No</td>\n",
       "      <td>Don't know</td>\n",
       "      <td>6-25</td>\n",
       "      <td>Yes</td>\n",
       "      <td>Yes</td>\n",
       "      <td>...</td>\n",
       "      <td>Yes</td>\n",
       "      <td>Somewhat easy</td>\n",
       "      <td>No</td>\n",
       "      <td>No</td>\n",
       "      <td>Some of them</td>\n",
       "      <td>Some of them</td>\n",
       "      <td>Maybe</td>\n",
       "      <td>Maybe</td>\n",
       "      <td>Don't know</td>\n",
       "      <td>No</td>\n",
       "    </tr>\n",
       "    <tr>\n",
       "      <th>20</th>\n",
       "      <td>29</td>\n",
       "      <td>Male</td>\n",
       "      <td>United States</td>\n",
       "      <td>No</td>\n",
       "      <td>Yes</td>\n",
       "      <td>Yes</td>\n",
       "      <td>Sometimes</td>\n",
       "      <td>100-500</td>\n",
       "      <td>No</td>\n",
       "      <td>Yes</td>\n",
       "      <td>...</td>\n",
       "      <td>No</td>\n",
       "      <td>Somewhat difficult</td>\n",
       "      <td>Maybe</td>\n",
       "      <td>No</td>\n",
       "      <td>Some of them</td>\n",
       "      <td>Some of them</td>\n",
       "      <td>No</td>\n",
       "      <td>No</td>\n",
       "      <td>No</td>\n",
       "      <td>No</td>\n",
       "    </tr>\n",
       "    <tr>\n",
       "      <th>21</th>\n",
       "      <td>31</td>\n",
       "      <td>Male</td>\n",
       "      <td>United States</td>\n",
       "      <td>Yes</td>\n",
       "      <td>No</td>\n",
       "      <td>No</td>\n",
       "      <td>Never</td>\n",
       "      <td>1-5</td>\n",
       "      <td>Yes</td>\n",
       "      <td>Yes</td>\n",
       "      <td>...</td>\n",
       "      <td>Yes</td>\n",
       "      <td>Somewhat difficult</td>\n",
       "      <td>No</td>\n",
       "      <td>No</td>\n",
       "      <td>Some of them</td>\n",
       "      <td>Some of them</td>\n",
       "      <td>No</td>\n",
       "      <td>Maybe</td>\n",
       "      <td>Yes</td>\n",
       "      <td>No</td>\n",
       "    </tr>\n",
       "    <tr>\n",
       "      <th>22</th>\n",
       "      <td>46</td>\n",
       "      <td>Male</td>\n",
       "      <td>United States</td>\n",
       "      <td>No</td>\n",
       "      <td>No</td>\n",
       "      <td>Yes</td>\n",
       "      <td>Often</td>\n",
       "      <td>26-100</td>\n",
       "      <td>Yes</td>\n",
       "      <td>Yes</td>\n",
       "      <td>...</td>\n",
       "      <td>Don't know</td>\n",
       "      <td>Don't know</td>\n",
       "      <td>Maybe</td>\n",
       "      <td>No</td>\n",
       "      <td>Some of them</td>\n",
       "      <td>Yes</td>\n",
       "      <td>No</td>\n",
       "      <td>Maybe</td>\n",
       "      <td>No</td>\n",
       "      <td>No</td>\n",
       "    </tr>\n",
       "    <tr>\n",
       "      <th>...</th>\n",
       "      <td>...</td>\n",
       "      <td>...</td>\n",
       "      <td>...</td>\n",
       "      <td>...</td>\n",
       "      <td>...</td>\n",
       "      <td>...</td>\n",
       "      <td>...</td>\n",
       "      <td>...</td>\n",
       "      <td>...</td>\n",
       "      <td>...</td>\n",
       "      <td>...</td>\n",
       "      <td>...</td>\n",
       "      <td>...</td>\n",
       "      <td>...</td>\n",
       "      <td>...</td>\n",
       "      <td>...</td>\n",
       "      <td>...</td>\n",
       "      <td>...</td>\n",
       "      <td>...</td>\n",
       "      <td>...</td>\n",
       "      <td>...</td>\n",
       "    </tr>\n",
       "    <tr>\n",
       "      <th>1254</th>\n",
       "      <td>26</td>\n",
       "      <td>Male</td>\n",
       "      <td>United Kingdom</td>\n",
       "      <td>No</td>\n",
       "      <td>No</td>\n",
       "      <td>Yes</td>\n",
       "      <td>Don't know</td>\n",
       "      <td>26-100</td>\n",
       "      <td>No</td>\n",
       "      <td>Yes</td>\n",
       "      <td>...</td>\n",
       "      <td>Don't know</td>\n",
       "      <td>Somewhat easy</td>\n",
       "      <td>No</td>\n",
       "      <td>No</td>\n",
       "      <td>Some of them</td>\n",
       "      <td>Some of them</td>\n",
       "      <td>No</td>\n",
       "      <td>No</td>\n",
       "      <td>Don't know</td>\n",
       "      <td>No</td>\n",
       "    </tr>\n",
       "    <tr>\n",
       "      <th>1255</th>\n",
       "      <td>32</td>\n",
       "      <td>Male</td>\n",
       "      <td>United States</td>\n",
       "      <td>No</td>\n",
       "      <td>Yes</td>\n",
       "      <td>Yes</td>\n",
       "      <td>Often</td>\n",
       "      <td>26-100</td>\n",
       "      <td>Yes</td>\n",
       "      <td>Yes</td>\n",
       "      <td>...</td>\n",
       "      <td>Yes</td>\n",
       "      <td>Somewhat difficult</td>\n",
       "      <td>No</td>\n",
       "      <td>No</td>\n",
       "      <td>Some of them</td>\n",
       "      <td>Yes</td>\n",
       "      <td>No</td>\n",
       "      <td>No</td>\n",
       "      <td>Yes</td>\n",
       "      <td>No</td>\n",
       "    </tr>\n",
       "    <tr>\n",
       "      <th>1256</th>\n",
       "      <td>34</td>\n",
       "      <td>Male</td>\n",
       "      <td>United States</td>\n",
       "      <td>No</td>\n",
       "      <td>Yes</td>\n",
       "      <td>Yes</td>\n",
       "      <td>Sometimes</td>\n",
       "      <td>More than 1000</td>\n",
       "      <td>No</td>\n",
       "      <td>Yes</td>\n",
       "      <td>...</td>\n",
       "      <td>Don't know</td>\n",
       "      <td>Somewhat difficult</td>\n",
       "      <td>Yes</td>\n",
       "      <td>Yes</td>\n",
       "      <td>No</td>\n",
       "      <td>No</td>\n",
       "      <td>No</td>\n",
       "      <td>No</td>\n",
       "      <td>No</td>\n",
       "      <td>No</td>\n",
       "    </tr>\n",
       "    <tr>\n",
       "      <th>1257</th>\n",
       "      <td>46</td>\n",
       "      <td>Female</td>\n",
       "      <td>United States</td>\n",
       "      <td>No</td>\n",
       "      <td>No</td>\n",
       "      <td>No</td>\n",
       "      <td>Don't know</td>\n",
       "      <td>100-500</td>\n",
       "      <td>Yes</td>\n",
       "      <td>Yes</td>\n",
       "      <td>...</td>\n",
       "      <td>Don't know</td>\n",
       "      <td>Don't know</td>\n",
       "      <td>Yes</td>\n",
       "      <td>No</td>\n",
       "      <td>No</td>\n",
       "      <td>No</td>\n",
       "      <td>No</td>\n",
       "      <td>No</td>\n",
       "      <td>No</td>\n",
       "      <td>No</td>\n",
       "    </tr>\n",
       "    <tr>\n",
       "      <th>1258</th>\n",
       "      <td>25</td>\n",
       "      <td>Male</td>\n",
       "      <td>United States</td>\n",
       "      <td>No</td>\n",
       "      <td>Yes</td>\n",
       "      <td>Yes</td>\n",
       "      <td>Sometimes</td>\n",
       "      <td>26-100</td>\n",
       "      <td>No</td>\n",
       "      <td>No</td>\n",
       "      <td>...</td>\n",
       "      <td>Yes</td>\n",
       "      <td>Don't know</td>\n",
       "      <td>Maybe</td>\n",
       "      <td>No</td>\n",
       "      <td>Some of them</td>\n",
       "      <td>No</td>\n",
       "      <td>No</td>\n",
       "      <td>No</td>\n",
       "      <td>Don't know</td>\n",
       "      <td>No</td>\n",
       "    </tr>\n",
       "  </tbody>\n",
       "</table>\n",
       "<p>1233 rows × 24 columns</p>\n",
       "</div>"
      ],
      "text/plain": [
       "      Age  Gender         Country self_employed family_history treatment  \\\n",
       "18     46    Male   United States           Yes            Yes        No   \n",
       "19     36    Male          France           Yes            Yes        No   \n",
       "20     29    Male   United States            No            Yes       Yes   \n",
       "21     31    Male   United States           Yes             No        No   \n",
       "22     46    Male   United States            No             No       Yes   \n",
       "...   ...     ...             ...           ...            ...       ...   \n",
       "1254   26    Male  United Kingdom            No             No       Yes   \n",
       "1255   32    Male   United States            No            Yes       Yes   \n",
       "1256   34    Male   United States            No            Yes       Yes   \n",
       "1257   46  Female   United States            No             No        No   \n",
       "1258   25    Male   United States            No            Yes       Yes   \n",
       "\n",
       "     work_interfere    no_employees remote_work tech_company  ...   anonymity  \\\n",
       "18        Sometimes             1-5         Yes          Yes  ...         Yes   \n",
       "19       Don't know            6-25         Yes          Yes  ...         Yes   \n",
       "20        Sometimes         100-500          No          Yes  ...          No   \n",
       "21            Never             1-5         Yes          Yes  ...         Yes   \n",
       "22            Often          26-100         Yes          Yes  ...  Don't know   \n",
       "...             ...             ...         ...          ...  ...         ...   \n",
       "1254     Don't know          26-100          No          Yes  ...  Don't know   \n",
       "1255          Often          26-100         Yes          Yes  ...         Yes   \n",
       "1256      Sometimes  More than 1000          No          Yes  ...  Don't know   \n",
       "1257     Don't know         100-500         Yes          Yes  ...  Don't know   \n",
       "1258      Sometimes          26-100          No           No  ...         Yes   \n",
       "\n",
       "                   leave mental_health_consequence phys_health_consequence  \\\n",
       "18             Very easy                        No                      No   \n",
       "19         Somewhat easy                        No                      No   \n",
       "20    Somewhat difficult                     Maybe                      No   \n",
       "21    Somewhat difficult                        No                      No   \n",
       "22            Don't know                     Maybe                      No   \n",
       "...                  ...                       ...                     ...   \n",
       "1254       Somewhat easy                        No                      No   \n",
       "1255  Somewhat difficult                        No                      No   \n",
       "1256  Somewhat difficult                       Yes                     Yes   \n",
       "1257          Don't know                       Yes                      No   \n",
       "1258          Don't know                     Maybe                      No   \n",
       "\n",
       "         coworkers    supervisor mental_health_interview  \\\n",
       "18             Yes           Yes                      No   \n",
       "19    Some of them  Some of them                   Maybe   \n",
       "20    Some of them  Some of them                      No   \n",
       "21    Some of them  Some of them                      No   \n",
       "22    Some of them           Yes                      No   \n",
       "...            ...           ...                     ...   \n",
       "1254  Some of them  Some of them                      No   \n",
       "1255  Some of them           Yes                      No   \n",
       "1256            No            No                      No   \n",
       "1257            No            No                      No   \n",
       "1258  Some of them            No                      No   \n",
       "\n",
       "     phys_health_interview mental_vs_physical obs_consequence  \n",
       "18                     Yes                Yes             Yes  \n",
       "19                   Maybe         Don't know              No  \n",
       "20                      No                 No              No  \n",
       "21                   Maybe                Yes              No  \n",
       "22                   Maybe                 No              No  \n",
       "...                    ...                ...             ...  \n",
       "1254                    No         Don't know              No  \n",
       "1255                    No                Yes              No  \n",
       "1256                    No                 No              No  \n",
       "1257                    No                 No              No  \n",
       "1258                    No         Don't know              No  \n",
       "\n",
       "[1233 rows x 24 columns]"
      ]
     },
     "execution_count": 569,
     "metadata": {},
     "output_type": "execute_result"
    }
   ],
   "source": [
    "\n",
    "mentalHealth"
   ]
  },
  {
   "cell_type": "code",
   "execution_count": 567,
   "id": "09e08fb4",
   "metadata": {},
   "outputs": [],
   "source": [
    "mentalHealth.to_csv(\"Mental_Health_Intial_Prep\")"
   ]
  },
  {
   "cell_type": "markdown",
   "id": "3d8a9198",
   "metadata": {},
   "source": [
    "## Age Column"
   ]
  },
  {
   "cell_type": "code",
   "execution_count": 499,
   "id": "526b730d",
   "metadata": {},
   "outputs": [
    {
     "data": {
      "text/plain": [
       "array([         37,          44,          32,          31,          33,\n",
       "                35,          39,          42,          23,          29,\n",
       "                36,          27,          46,          41,          34,\n",
       "                30,          40,          38,          50,          24,\n",
       "                18,          28,          26,          22,          19,\n",
       "                25,          45,          21,         -29,          43,\n",
       "                56,          60,          54,         329,          55,\n",
       "       99999999999,          48,          20,          57,          58,\n",
       "                47,          62,          51,          65,          49,\n",
       "             -1726,           5,          53,          61,           8,\n",
       "                11,          -1,          72])"
      ]
     },
     "execution_count": 499,
     "metadata": {},
     "output_type": "execute_result"
    }
   ],
   "source": [
    "mentalHealth['Age'].unique()"
   ]
  },
  {
   "cell_type": "code",
   "execution_count": 439,
   "id": "c9f2bf2e",
   "metadata": {},
   "outputs": [],
   "source": [
    "# Delete any rows with entries that fall outside the scope of reasonable age (-29, 99999999999, -1726, -1, 329)\n",
    "# As we are looking at working individuals anybody under the age of 18 will not be counted in this study (5, 8)\n",
    "# Care about ages bettween 18 and 75"
   ]
  },
  {
   "cell_type": "code",
   "execution_count": 500,
   "id": "2ba8426a",
   "metadata": {},
   "outputs": [],
   "source": [
    "mentalHealth.drop(mentalHealth.loc[mentalHealth['Age']<18].index, inplace=True)\n",
    "mentalHealth.drop(mentalHealth.loc[mentalHealth['Age']>75].index, inplace=True)"
   ]
  },
  {
   "cell_type": "code",
   "execution_count": 501,
   "id": "48c9b2eb",
   "metadata": {
    "scrolled": true
   },
   "outputs": [
    {
     "data": {
      "text/plain": [
       "array([37, 44, 32, 31, 33, 35, 39, 42, 23, 29, 36, 27, 46, 41, 34, 30, 40,\n",
       "       38, 50, 24, 18, 28, 26, 22, 19, 25, 45, 21, 43, 56, 60, 54, 55, 48,\n",
       "       20, 57, 58, 47, 62, 51, 65, 49, 53, 61, 72])"
      ]
     },
     "execution_count": 501,
     "metadata": {},
     "output_type": "execute_result"
    }
   ],
   "source": [
    "mentalHealth['Age'].unique()"
   ]
  },
  {
   "cell_type": "code",
   "execution_count": 442,
   "id": "ba7510b6",
   "metadata": {},
   "outputs": [],
   "source": [
    "# Should I group age ranges?"
   ]
  },
  {
   "cell_type": "markdown",
   "id": "313c5116",
   "metadata": {},
   "source": [
    "## Gender Column"
   ]
  },
  {
   "cell_type": "code",
   "execution_count": 502,
   "id": "4292d014",
   "metadata": {
    "scrolled": false
   },
   "outputs": [
    {
     "data": {
      "text/plain": [
       "array(['Female', 'M', 'Male', 'male', 'female', 'm', 'Male-ish', 'maile',\n",
       "       'Trans-female', 'Cis Female', 'F', 'something kinda male?',\n",
       "       'Cis Male', 'Woman', 'f', 'Mal', 'Male (CIS)', 'queer/she/they',\n",
       "       'non-binary', 'Femake', 'woman', 'Make', 'Nah', 'Enby', 'fluid',\n",
       "       'Genderqueer', 'Female ', 'Androgyne', 'Agender',\n",
       "       'cis-female/femme', 'Guy (-ish) ^_^', 'male leaning androgynous',\n",
       "       'Male ', 'Man', 'Trans woman', 'msle', 'Neuter', 'Female (trans)',\n",
       "       'queer', 'Female (cis)', 'Mail', 'cis male', 'Malr', 'femail',\n",
       "       'Cis Man', 'ostensibly male, unsure what that really means'],\n",
       "      dtype=object)"
      ]
     },
     "execution_count": 502,
     "metadata": {},
     "output_type": "execute_result"
    }
   ],
   "source": [
    "mentalHealth['Gender'].unique()"
   ]
  },
  {
   "cell_type": "code",
   "execution_count": 503,
   "id": "51a53253",
   "metadata": {},
   "outputs": [],
   "source": [
    "# Cleaning 'Gender' Column\n",
    "# Male group\n",
    "mentalHealth['Gender'] = mentalHealth['Gender'].replace({'M':'Male', 'male':'Male', 'm':'Male', 'Male-ish':'Male',\n",
    "                        'maile':'Male','Mal':'Male', 'Make':'Male', 'Man':'Male', 'msle':'Male',\n",
    "                        'Mail':'Male', 'Malr':'Male', 'Male ':'Male', 'Cis Male':'Male', \n",
    "                        'Male (CIS)':'Male', 'cis Male':'Male', 'Cis Man':'Male', 'cis male':'Male'})\n",
    "# Female group\n",
    "mentalHealth['Gender'] = mentalHealth['Gender'].replace({'female':'Female', 'F':'Female', 'Woman':'Female',\n",
    "                         'f':'Female', 'Femake':'Female', 'woman':'Female', 'Female ':'Female',\n",
    "                        'femail':'Female', 'Cis Female':'Female', 'cis-female/femme':'Female',\n",
    "                         'Female (cis)':'Female'})\n",
    "# Other group\n",
    "# This group contains all transgender, non-binary, or not gender specific individuals\n",
    "mentalHealth['Gender'] = mentalHealth['Gender'].replace({'Trans-female':'Other', 'something kinda male?':'Other', 'queer/she/they':'Other',\n",
    "                        'non-binary':'Other', 'Nah':'Other', 'All':'Other', 'Enby':'Other', 'fluid':'Other',\n",
    "                        'Genderqueer':'Other', 'Androgyne':'Other', 'Agender':'Other', 'Guy (-ish) ^_^':'Other',\n",
    "                        'male leaning androgynous':'Other', 'Trans woman':'Other', 'Neuter':'Other',\n",
    "                        'Female (trans)':'Other', 'queer':'Other', 'A little about you':'Other', 'p':'Other',\n",
    "                        'ostensibly male, unsure what that really means':'Other'})"
   ]
  },
  {
   "cell_type": "code",
   "execution_count": 504,
   "id": "b5617cce",
   "metadata": {},
   "outputs": [
    {
     "data": {
      "text/plain": [
       "0"
      ]
     },
     "execution_count": 504,
     "metadata": {},
     "output_type": "execute_result"
    }
   ],
   "source": [
    "mentalHealth['Gender'].isna().sum()"
   ]
  },
  {
   "cell_type": "code",
   "execution_count": 505,
   "id": "c60f6d3a",
   "metadata": {},
   "outputs": [
    {
     "data": {
      "text/plain": [
       "array(['Female', 'Male', 'Other'], dtype=object)"
      ]
     },
     "execution_count": 505,
     "metadata": {},
     "output_type": "execute_result"
    }
   ],
   "source": [
    "mentalHealth['Gender'].unique()"
   ]
  },
  {
   "cell_type": "code",
   "execution_count": 447,
   "id": "2bf02eac",
   "metadata": {},
   "outputs": [],
   "source": [
    "# Categorized the gender data into three categories: Male, Female, Other"
   ]
  },
  {
   "cell_type": "markdown",
   "id": "f0e91caa",
   "metadata": {},
   "source": [
    "## Country and state Columns"
   ]
  },
  {
   "cell_type": "code",
   "execution_count": 448,
   "id": "7a4de9ed",
   "metadata": {},
   "outputs": [],
   "source": [
    "# Dropped state column as interest would lie based on country \n",
    "# Would test states if only looking at US data"
   ]
  },
  {
   "cell_type": "code",
   "execution_count": 506,
   "id": "19f44be6",
   "metadata": {},
   "outputs": [
    {
     "data": {
      "text/plain": [
       "0"
      ]
     },
     "execution_count": 506,
     "metadata": {},
     "output_type": "execute_result"
    }
   ],
   "source": [
    "mentalHealth['Country'].isna().sum()"
   ]
  },
  {
   "cell_type": "code",
   "execution_count": 451,
   "id": "ade9047d",
   "metadata": {},
   "outputs": [],
   "source": [
    "# Should I care about location?\n",
    "# Should i break into USA vs Foreign Countries?\n",
    "# Can I just look at US data?"
   ]
  },
  {
   "cell_type": "markdown",
   "id": "e7f082fa",
   "metadata": {},
   "source": [
    "## self_employed Column"
   ]
  },
  {
   "cell_type": "code",
   "execution_count": 507,
   "id": "d6e6c7ed",
   "metadata": {
    "scrolled": false
   },
   "outputs": [
    {
     "data": {
      "text/plain": [
       "array([nan, 'Yes', 'No'], dtype=object)"
      ]
     },
     "execution_count": 507,
     "metadata": {},
     "output_type": "execute_result"
    }
   ],
   "source": [
    "mentalHealth['self_employed'].unique()"
   ]
  },
  {
   "cell_type": "code",
   "execution_count": 508,
   "id": "947de0d6",
   "metadata": {},
   "outputs": [
    {
     "data": {
      "text/plain": [
       "18"
      ]
     },
     "execution_count": 508,
     "metadata": {},
     "output_type": "execute_result"
    }
   ],
   "source": [
    "mentalHealth['self_employed'].isna().sum()"
   ]
  },
  {
   "cell_type": "code",
   "execution_count": 509,
   "id": "1c1fcb6a",
   "metadata": {},
   "outputs": [],
   "source": [
    "mentalHealth.drop(mentalHealth.loc[mentalHealth['self_employed'].isna()].index, inplace=True)"
   ]
  },
  {
   "cell_type": "code",
   "execution_count": 455,
   "id": "7ee316e4",
   "metadata": {},
   "outputs": [],
   "source": [
    "# With no recorded emplyment type we will remove entries as there are only 18"
   ]
  },
  {
   "cell_type": "markdown",
   "id": "b84b282c",
   "metadata": {},
   "source": [
    "## family_history Column"
   ]
  },
  {
   "cell_type": "code",
   "execution_count": 510,
   "id": "4cf83bb6",
   "metadata": {},
   "outputs": [
    {
     "data": {
      "text/plain": [
       "array(['Yes', 'No'], dtype=object)"
      ]
     },
     "execution_count": 510,
     "metadata": {},
     "output_type": "execute_result"
    }
   ],
   "source": [
    "mentalHealth['family_history'].unique()"
   ]
  },
  {
   "cell_type": "code",
   "execution_count": null,
   "id": "26430921",
   "metadata": {},
   "outputs": [],
   "source": []
  },
  {
   "cell_type": "markdown",
   "id": "2b4a3e16",
   "metadata": {},
   "source": [
    "## treatment Column"
   ]
  },
  {
   "cell_type": "code",
   "execution_count": 511,
   "id": "4198109b",
   "metadata": {},
   "outputs": [
    {
     "data": {
      "text/plain": [
       "array(['No', 'Yes'], dtype=object)"
      ]
     },
     "execution_count": 511,
     "metadata": {},
     "output_type": "execute_result"
    }
   ],
   "source": [
    "mentalHealth['treatment'].unique()"
   ]
  },
  {
   "cell_type": "code",
   "execution_count": null,
   "id": "586a4ff3",
   "metadata": {},
   "outputs": [],
   "source": []
  },
  {
   "cell_type": "markdown",
   "id": "5f49f08d",
   "metadata": {},
   "source": [
    "## work_interfere Column"
   ]
  },
  {
   "cell_type": "code",
   "execution_count": 512,
   "id": "bfb4ec2c",
   "metadata": {},
   "outputs": [
    {
     "data": {
      "text/plain": [
       "array(['Sometimes', nan, 'Never', 'Often', 'Rarely'], dtype=object)"
      ]
     },
     "execution_count": 512,
     "metadata": {},
     "output_type": "execute_result"
    }
   ],
   "source": [
    "# Change assignment for entries (4+ response types), encode them for testing\n",
    "mentalHealth['work_interfere'].unique()\n",
    "# Encoding of 'work_interfere' entries\n",
    "# Never = 1, Rarely = 2, Sometimes = 3, Often = 4\n",
    "# nan = ???"
   ]
  },
  {
   "cell_type": "code",
   "execution_count": 513,
   "id": "5d4d1d7b",
   "metadata": {},
   "outputs": [
    {
     "data": {
      "text/plain": [
       "262"
      ]
     },
     "execution_count": 513,
     "metadata": {},
     "output_type": "execute_result"
    }
   ],
   "source": [
    "mentalHealth['work_interfere'].isna().sum()"
   ]
  },
  {
   "cell_type": "code",
   "execution_count": null,
   "id": "38dec446",
   "metadata": {},
   "outputs": [],
   "source": [
    "# What to do with missing values\n",
    "    # Drop values from dataset?\n",
    "    # Create new variable \"Don't know\""
   ]
  },
  {
   "cell_type": "code",
   "execution_count": 514,
   "id": "cc029011",
   "metadata": {},
   "outputs": [
    {
     "name": "stdout",
     "output_type": "stream",
     "text": [
      "['Sometimes' \"Don't know\" 'Never' 'Often' 'Rarely'] 0\n"
     ]
    }
   ],
   "source": [
    "# For now assign the missing values to \"Don't know\"\n",
    "# Due to no reponse we are going to assume they havent specifically noticed\n",
    "# any interference and didnt know how to respond\n",
    "mentalHealth['work_interfere'] = mentalHealth['work_interfere'].fillna('Don\\'t know')\n",
    "print(mentalHealth['work_interfere'].unique(), mentalHealth['work_interfere'].isna().sum())"
   ]
  },
  {
   "cell_type": "markdown",
   "id": "82c5fc6b",
   "metadata": {},
   "source": [
    "## no_employees Column"
   ]
  },
  {
   "cell_type": "code",
   "execution_count": 515,
   "id": "700b0892",
   "metadata": {},
   "outputs": [
    {
     "data": {
      "text/plain": [
       "array(['1-5', '6-25', '100-500', '26-100', 'More than 1000', '500-1000'],\n",
       "      dtype=object)"
      ]
     },
     "execution_count": 515,
     "metadata": {},
     "output_type": "execute_result"
    }
   ],
   "source": [
    "mentalHealth['no_employees'].unique()"
   ]
  },
  {
   "cell_type": "code",
   "execution_count": null,
   "id": "8293e724",
   "metadata": {},
   "outputs": [],
   "source": []
  },
  {
   "cell_type": "markdown",
   "id": "a6834dec",
   "metadata": {},
   "source": [
    "## remote_work Column"
   ]
  },
  {
   "cell_type": "code",
   "execution_count": 516,
   "id": "7f36870d",
   "metadata": {},
   "outputs": [
    {
     "data": {
      "text/plain": [
       "array(['Yes', 'No'], dtype=object)"
      ]
     },
     "execution_count": 516,
     "metadata": {},
     "output_type": "execute_result"
    }
   ],
   "source": [
    "mentalHealth['remote_work'].unique()"
   ]
  },
  {
   "cell_type": "code",
   "execution_count": null,
   "id": "7b34cf10",
   "metadata": {},
   "outputs": [],
   "source": []
  },
  {
   "cell_type": "markdown",
   "id": "7c765623",
   "metadata": {},
   "source": [
    "## tech_company Column"
   ]
  },
  {
   "cell_type": "code",
   "execution_count": 517,
   "id": "97f15dd6",
   "metadata": {},
   "outputs": [
    {
     "data": {
      "text/plain": [
       "array(['Yes', 'No'], dtype=object)"
      ]
     },
     "execution_count": 517,
     "metadata": {},
     "output_type": "execute_result"
    }
   ],
   "source": [
    "mentalHealth['tech_company'].unique()"
   ]
  },
  {
   "cell_type": "code",
   "execution_count": null,
   "id": "a6781e92",
   "metadata": {},
   "outputs": [],
   "source": []
  },
  {
   "cell_type": "markdown",
   "id": "ea82be4a",
   "metadata": {},
   "source": [
    "## benefits Column"
   ]
  },
  {
   "cell_type": "code",
   "execution_count": 518,
   "id": "e2286118",
   "metadata": {},
   "outputs": [
    {
     "data": {
      "text/plain": [
       "array(['Yes', 'No', \"Don't know\"], dtype=object)"
      ]
     },
     "execution_count": 518,
     "metadata": {},
     "output_type": "execute_result"
    }
   ],
   "source": [
    "mentalHealth['benefits'].unique()"
   ]
  },
  {
   "cell_type": "code",
   "execution_count": null,
   "id": "7570000f",
   "metadata": {},
   "outputs": [],
   "source": []
  },
  {
   "cell_type": "markdown",
   "id": "661e101e",
   "metadata": {},
   "source": [
    "## care_options Column"
   ]
  },
  {
   "cell_type": "code",
   "execution_count": 519,
   "id": "8561f872",
   "metadata": {
    "scrolled": true
   },
   "outputs": [
    {
     "data": {
      "text/plain": [
       "array(['Not sure', 'No', 'Yes'], dtype=object)"
      ]
     },
     "execution_count": 519,
     "metadata": {},
     "output_type": "execute_result"
    }
   ],
   "source": [
    "mentalHealth['care_options'].unique()"
   ]
  },
  {
   "cell_type": "code",
   "execution_count": null,
   "id": "e911a41d",
   "metadata": {
    "scrolled": true
   },
   "outputs": [],
   "source": []
  },
  {
   "cell_type": "markdown",
   "id": "3624fc1a",
   "metadata": {},
   "source": [
    "## wellness_program Column"
   ]
  },
  {
   "cell_type": "code",
   "execution_count": 520,
   "id": "388e5249",
   "metadata": {},
   "outputs": [
    {
     "data": {
      "text/plain": [
       "array(['Yes', 'No', \"Don't know\"], dtype=object)"
      ]
     },
     "execution_count": 520,
     "metadata": {},
     "output_type": "execute_result"
    }
   ],
   "source": [
    "mentalHealth['wellness_program'].unique()"
   ]
  },
  {
   "cell_type": "code",
   "execution_count": null,
   "id": "52a7b0cd",
   "metadata": {},
   "outputs": [],
   "source": []
  },
  {
   "cell_type": "markdown",
   "id": "6adf1e49",
   "metadata": {},
   "source": [
    "## seek_help Column"
   ]
  },
  {
   "cell_type": "code",
   "execution_count": 521,
   "id": "84e18c7c",
   "metadata": {},
   "outputs": [
    {
     "data": {
      "text/plain": [
       "array([\"Don't know\", 'No', 'Yes'], dtype=object)"
      ]
     },
     "execution_count": 521,
     "metadata": {},
     "output_type": "execute_result"
    }
   ],
   "source": [
    "mentalHealth['seek_help'].unique()"
   ]
  },
  {
   "cell_type": "code",
   "execution_count": null,
   "id": "569c96f6",
   "metadata": {},
   "outputs": [],
   "source": []
  },
  {
   "cell_type": "markdown",
   "id": "be1b87ec",
   "metadata": {},
   "source": [
    "## anonymity Column"
   ]
  },
  {
   "cell_type": "code",
   "execution_count": 522,
   "id": "921b42a2",
   "metadata": {},
   "outputs": [
    {
     "data": {
      "text/plain": [
       "array(['Yes', 'No', \"Don't know\"], dtype=object)"
      ]
     },
     "execution_count": 522,
     "metadata": {},
     "output_type": "execute_result"
    }
   ],
   "source": [
    "mentalHealth['anonymity'].unique()"
   ]
  },
  {
   "cell_type": "code",
   "execution_count": null,
   "id": "89c5db5c",
   "metadata": {},
   "outputs": [],
   "source": []
  },
  {
   "cell_type": "markdown",
   "id": "bf8c3f9a",
   "metadata": {},
   "source": [
    "## leave Column"
   ]
  },
  {
   "cell_type": "code",
   "execution_count": 523,
   "id": "ee675a3b",
   "metadata": {},
   "outputs": [
    {
     "data": {
      "text/plain": [
       "array(['Very easy', 'Somewhat easy', 'Somewhat difficult', \"Don't know\",\n",
       "       'Very difficult'], dtype=object)"
      ]
     },
     "execution_count": 523,
     "metadata": {},
     "output_type": "execute_result"
    }
   ],
   "source": [
    "mentalHealth['leave'].unique()\n",
    "# Encoding of 'leave' entries\n",
    "# Don't know = 0, Very difficult = 1, Somewhat difficult = 2, Somewhat easy = 3, Very easy = 4"
   ]
  },
  {
   "cell_type": "code",
   "execution_count": 398,
   "id": "e3613afd",
   "metadata": {},
   "outputs": [],
   "source": [
    "#For first cleaning process we are going to understand the data that is present and then when going into deep\n",
    "    # I will encode the data\n",
    "\n",
    "#leaveCol = mentalHealth.loc[:,('leave')].replace([\"Don't know\", \"Very difficult\", \"Somewhat difficult\", \"Somewhat easy\", \n",
    "#                                       \"Very easy\"],[0,1,2,3,4],inplace=True)\n",
    "#leaveCol"
   ]
  },
  {
   "cell_type": "code",
   "execution_count": 461,
   "id": "73842c6a",
   "metadata": {
    "scrolled": true
   },
   "outputs": [],
   "source": [
    "#mentalHealth['leave'].astype('int64')"
   ]
  },
  {
   "cell_type": "code",
   "execution_count": null,
   "id": "23eb4fff",
   "metadata": {},
   "outputs": [],
   "source": [
    "# Encoded the values with numerical entries for for analysis opportunities"
   ]
  },
  {
   "cell_type": "code",
   "execution_count": null,
   "id": "c24ac0f3",
   "metadata": {},
   "outputs": [],
   "source": []
  },
  {
   "cell_type": "markdown",
   "id": "4decf90d",
   "metadata": {},
   "source": [
    "## mental_health_consequence Column"
   ]
  },
  {
   "cell_type": "code",
   "execution_count": 524,
   "id": "f07b00b0",
   "metadata": {},
   "outputs": [
    {
     "data": {
      "text/plain": [
       "array(['No', 'Maybe', 'Yes'], dtype=object)"
      ]
     },
     "execution_count": 524,
     "metadata": {},
     "output_type": "execute_result"
    }
   ],
   "source": [
    "mentalHealth['mental_health_consequence'].unique()"
   ]
  },
  {
   "cell_type": "code",
   "execution_count": null,
   "id": "e79bf881",
   "metadata": {},
   "outputs": [],
   "source": []
  },
  {
   "cell_type": "markdown",
   "id": "96c1c517",
   "metadata": {},
   "source": [
    "## phys_health_consequence Column"
   ]
  },
  {
   "cell_type": "code",
   "execution_count": 525,
   "id": "390f8c05",
   "metadata": {},
   "outputs": [
    {
     "data": {
      "text/plain": [
       "array(['No', 'Maybe', 'Yes'], dtype=object)"
      ]
     },
     "execution_count": 525,
     "metadata": {},
     "output_type": "execute_result"
    }
   ],
   "source": [
    "mentalHealth['phys_health_consequence'].unique()"
   ]
  },
  {
   "cell_type": "code",
   "execution_count": null,
   "id": "1d0926ea",
   "metadata": {},
   "outputs": [],
   "source": []
  },
  {
   "cell_type": "markdown",
   "id": "9a6d2b96",
   "metadata": {},
   "source": [
    "## coworkers Column"
   ]
  },
  {
   "cell_type": "code",
   "execution_count": 526,
   "id": "5314094f",
   "metadata": {},
   "outputs": [
    {
     "data": {
      "text/plain": [
       "array(['Yes', 'Some of them', 'No'], dtype=object)"
      ]
     },
     "execution_count": 526,
     "metadata": {},
     "output_type": "execute_result"
    }
   ],
   "source": [
    "mentalHealth['coworkers'].unique()"
   ]
  },
  {
   "cell_type": "code",
   "execution_count": null,
   "id": "f477c911",
   "metadata": {},
   "outputs": [],
   "source": []
  },
  {
   "cell_type": "markdown",
   "id": "86859ed5",
   "metadata": {},
   "source": [
    "## supervisor Column"
   ]
  },
  {
   "cell_type": "code",
   "execution_count": 527,
   "id": "585961d5",
   "metadata": {},
   "outputs": [
    {
     "data": {
      "text/plain": [
       "array(['Yes', 'Some of them', 'No'], dtype=object)"
      ]
     },
     "execution_count": 527,
     "metadata": {},
     "output_type": "execute_result"
    }
   ],
   "source": [
    "mentalHealth['supervisor'].unique()"
   ]
  },
  {
   "cell_type": "code",
   "execution_count": null,
   "id": "0d9eaebb",
   "metadata": {},
   "outputs": [],
   "source": []
  },
  {
   "cell_type": "markdown",
   "id": "f7f0aedc",
   "metadata": {},
   "source": [
    "## mental_health_interview Column"
   ]
  },
  {
   "cell_type": "code",
   "execution_count": 528,
   "id": "bd761601",
   "metadata": {},
   "outputs": [
    {
     "data": {
      "text/plain": [
       "array(['No', 'Maybe', 'Yes'], dtype=object)"
      ]
     },
     "execution_count": 528,
     "metadata": {},
     "output_type": "execute_result"
    }
   ],
   "source": [
    "mentalHealth['mental_health_interview'].unique()"
   ]
  },
  {
   "cell_type": "code",
   "execution_count": null,
   "id": "ed4eceda",
   "metadata": {},
   "outputs": [],
   "source": []
  },
  {
   "cell_type": "markdown",
   "id": "7218fea7",
   "metadata": {},
   "source": [
    "## phys_health_interview Column"
   ]
  },
  {
   "cell_type": "code",
   "execution_count": 529,
   "id": "9f0ce69a",
   "metadata": {},
   "outputs": [
    {
     "data": {
      "text/plain": [
       "array(['Yes', 'Maybe', 'No'], dtype=object)"
      ]
     },
     "execution_count": 529,
     "metadata": {},
     "output_type": "execute_result"
    }
   ],
   "source": [
    "mentalHealth['phys_health_interview'].unique()"
   ]
  },
  {
   "cell_type": "code",
   "execution_count": null,
   "id": "e44723df",
   "metadata": {},
   "outputs": [],
   "source": []
  },
  {
   "cell_type": "markdown",
   "id": "92726d8d",
   "metadata": {},
   "source": [
    "## mental_vs_physical Column"
   ]
  },
  {
   "cell_type": "code",
   "execution_count": 530,
   "id": "d95c7fcd",
   "metadata": {},
   "outputs": [
    {
     "data": {
      "text/plain": [
       "array(['Yes', \"Don't know\", 'No'], dtype=object)"
      ]
     },
     "execution_count": 530,
     "metadata": {},
     "output_type": "execute_result"
    }
   ],
   "source": [
    "mentalHealth['mental_vs_physical'].unique()"
   ]
  },
  {
   "cell_type": "code",
   "execution_count": null,
   "id": "399cb2e3",
   "metadata": {},
   "outputs": [],
   "source": []
  },
  {
   "cell_type": "markdown",
   "id": "85f003c9",
   "metadata": {},
   "source": [
    "## obs_consequence Column"
   ]
  },
  {
   "cell_type": "code",
   "execution_count": 531,
   "id": "0c27c77f",
   "metadata": {},
   "outputs": [
    {
     "data": {
      "text/plain": [
       "array(['Yes', 'No'], dtype=object)"
      ]
     },
     "execution_count": 531,
     "metadata": {},
     "output_type": "execute_result"
    }
   ],
   "source": [
    "mentalHealth['obs_consequence'].unique()"
   ]
  },
  {
   "cell_type": "code",
   "execution_count": null,
   "id": "202b3966",
   "metadata": {},
   "outputs": [],
   "source": []
  },
  {
   "cell_type": "code",
   "execution_count": null,
   "id": "d5bf027f",
   "metadata": {},
   "outputs": [],
   "source": []
  },
  {
   "cell_type": "markdown",
   "id": "c62920bd",
   "metadata": {},
   "source": [
    "# Some Basic Data Understanding After Inital Cleaning"
   ]
  },
  {
   "cell_type": "code",
   "execution_count": 532,
   "id": "cba1aebe",
   "metadata": {
    "scrolled": false
   },
   "outputs": [
    {
     "data": {
      "text/plain": [
       "Age                          0\n",
       "Gender                       0\n",
       "Country                      0\n",
       "self_employed                0\n",
       "family_history               0\n",
       "treatment                    0\n",
       "work_interfere               0\n",
       "no_employees                 0\n",
       "remote_work                  0\n",
       "tech_company                 0\n",
       "benefits                     0\n",
       "care_options                 0\n",
       "wellness_program             0\n",
       "seek_help                    0\n",
       "anonymity                    0\n",
       "leave                        0\n",
       "mental_health_consequence    0\n",
       "phys_health_consequence      0\n",
       "coworkers                    0\n",
       "supervisor                   0\n",
       "mental_health_interview      0\n",
       "phys_health_interview        0\n",
       "mental_vs_physical           0\n",
       "obs_consequence              0\n",
       "dtype: int64"
      ]
     },
     "execution_count": 532,
     "metadata": {},
     "output_type": "execute_result"
    }
   ],
   "source": [
    "mentalHealth.isnull().sum()"
   ]
  },
  {
   "cell_type": "code",
   "execution_count": 566,
   "id": "0313fc90",
   "metadata": {},
   "outputs": [
    {
     "data": {
      "text/plain": [
       "Age                           int64\n",
       "Gender                       object\n",
       "Country                      object\n",
       "self_employed                object\n",
       "family_history               object\n",
       "treatment                    object\n",
       "work_interfere               object\n",
       "no_employees                 object\n",
       "remote_work                  object\n",
       "tech_company                 object\n",
       "benefits                     object\n",
       "care_options                 object\n",
       "wellness_program             object\n",
       "seek_help                    object\n",
       "anonymity                    object\n",
       "leave                        object\n",
       "mental_health_consequence    object\n",
       "phys_health_consequence      object\n",
       "coworkers                    object\n",
       "supervisor                   object\n",
       "mental_health_interview      object\n",
       "phys_health_interview        object\n",
       "mental_vs_physical           object\n",
       "obs_consequence              object\n",
       "dtype: object"
      ]
     },
     "execution_count": 566,
     "metadata": {},
     "output_type": "execute_result"
    }
   ],
   "source": [
    "mentalHealth.dtypes"
   ]
  },
  {
   "cell_type": "code",
   "execution_count": 533,
   "id": "33d39290",
   "metadata": {
    "scrolled": true
   },
   "outputs": [
    {
     "data": {
      "text/plain": [
       "count    1233.000000\n",
       "mean       32.061638\n",
       "std         7.305337\n",
       "min        18.000000\n",
       "25%        27.000000\n",
       "50%        31.000000\n",
       "75%        36.000000\n",
       "max        72.000000\n",
       "Name: Age, dtype: float64"
      ]
     },
     "execution_count": 533,
     "metadata": {},
     "output_type": "execute_result"
    }
   ],
   "source": [
    "mentalHealth['Age'].describe()"
   ]
  },
  {
   "cell_type": "code",
   "execution_count": 534,
   "id": "4bfc64e5",
   "metadata": {},
   "outputs": [
    {
     "data": {
      "text/plain": [
       "Gender\n",
       "Male      973\n",
       "Female    242\n",
       "Other      18\n",
       "Name: count, dtype: int64"
      ]
     },
     "execution_count": 534,
     "metadata": {},
     "output_type": "execute_result"
    }
   ],
   "source": [
    "mentalHealth['Gender'].value_counts()"
   ]
  },
  {
   "cell_type": "code",
   "execution_count": 535,
   "id": "52976b1a",
   "metadata": {},
   "outputs": [
    {
     "data": {
      "text/plain": [
       "Country\n",
       "United States             735\n",
       "United Kingdom            182\n",
       "Canada                     68\n",
       "Germany                    45\n",
       "Netherlands                27\n",
       "Ireland                    27\n",
       "Australia                  21\n",
       "France                     13\n",
       "India                      10\n",
       "New Zealand                 8\n",
       "Poland                      7\n",
       "Switzerland                 7\n",
       "Sweden                      7\n",
       "Italy                       7\n",
       "South Africa                6\n",
       "Belgium                     6\n",
       "Brazil                      6\n",
       "Israel                      5\n",
       "Singapore                   4\n",
       "Austria                     3\n",
       "Bulgaria                    3\n",
       "Mexico                      3\n",
       "Russia                      3\n",
       "Finland                     3\n",
       "Denmark                     2\n",
       "Greece                      2\n",
       "Colombia                    2\n",
       "Portugal                    2\n",
       "Croatia                     2\n",
       "Moldova                     1\n",
       "Georgia                     1\n",
       "China                       1\n",
       "Thailand                    1\n",
       "Czech Republic              1\n",
       "Norway                      1\n",
       "Latvia                      1\n",
       "Nigeria                     1\n",
       "Japan                       1\n",
       "Hungary                     1\n",
       "Bosnia and Herzegovina      1\n",
       "Uruguay                     1\n",
       "Spain                       1\n",
       "Romania                     1\n",
       "Costa Rica                  1\n",
       "Slovenia                    1\n",
       "Philippines                 1\n",
       "Name: count, dtype: int64"
      ]
     },
     "execution_count": 535,
     "metadata": {},
     "output_type": "execute_result"
    }
   ],
   "source": [
    "mentalHealth['Country'].value_counts()"
   ]
  },
  {
   "cell_type": "code",
   "execution_count": 536,
   "id": "15bf8e09",
   "metadata": {},
   "outputs": [
    {
     "data": {
      "text/plain": [
       "self_employed\n",
       "No     1091\n",
       "Yes     142\n",
       "Name: count, dtype: int64"
      ]
     },
     "execution_count": 536,
     "metadata": {},
     "output_type": "execute_result"
    }
   ],
   "source": [
    "mentalHealth['self_employed'].value_counts()"
   ]
  },
  {
   "cell_type": "code",
   "execution_count": 537,
   "id": "a39636f8",
   "metadata": {},
   "outputs": [
    {
     "data": {
      "text/plain": [
       "family_history\n",
       "No     751\n",
       "Yes    482\n",
       "Name: count, dtype: int64"
      ]
     },
     "execution_count": 537,
     "metadata": {},
     "output_type": "execute_result"
    }
   ],
   "source": [
    "mentalHealth['family_history'].value_counts()"
   ]
  },
  {
   "cell_type": "code",
   "execution_count": 538,
   "id": "26b8408c",
   "metadata": {},
   "outputs": [
    {
     "data": {
      "text/plain": [
       "treatment\n",
       "Yes    623\n",
       "No     610\n",
       "Name: count, dtype: int64"
      ]
     },
     "execution_count": 538,
     "metadata": {},
     "output_type": "execute_result"
    }
   ],
   "source": [
    "mentalHealth['treatment'].value_counts()"
   ]
  },
  {
   "cell_type": "code",
   "execution_count": 539,
   "id": "2d71d818",
   "metadata": {},
   "outputs": [
    {
     "data": {
      "text/plain": [
       "work_interfere\n",
       "Sometimes     457\n",
       "Don't know    262\n",
       "Never         206\n",
       "Rarely        170\n",
       "Often         138\n",
       "Name: count, dtype: int64"
      ]
     },
     "execution_count": 539,
     "metadata": {},
     "output_type": "execute_result"
    }
   ],
   "source": [
    "mentalHealth['work_interfere'].value_counts()"
   ]
  },
  {
   "cell_type": "code",
   "execution_count": 540,
   "id": "8294c8e5",
   "metadata": {},
   "outputs": [
    {
     "data": {
      "text/plain": [
       "no_employees\n",
       "6-25              283\n",
       "26-100            283\n",
       "More than 1000    280\n",
       "100-500           172\n",
       "1-5               156\n",
       "500-1000           59\n",
       "Name: count, dtype: int64"
      ]
     },
     "execution_count": 540,
     "metadata": {},
     "output_type": "execute_result"
    }
   ],
   "source": [
    "mentalHealth['no_employees'].value_counts()"
   ]
  },
  {
   "cell_type": "code",
   "execution_count": 541,
   "id": "1daa8d68",
   "metadata": {},
   "outputs": [
    {
     "data": {
      "text/plain": [
       "remote_work\n",
       "No     868\n",
       "Yes    365\n",
       "Name: count, dtype: int64"
      ]
     },
     "execution_count": 541,
     "metadata": {},
     "output_type": "execute_result"
    }
   ],
   "source": [
    "mentalHealth['remote_work'].value_counts()"
   ]
  },
  {
   "cell_type": "code",
   "execution_count": 542,
   "id": "fa30cff7",
   "metadata": {},
   "outputs": [
    {
     "data": {
      "text/plain": [
       "tech_company\n",
       "Yes    1009\n",
       "No      224\n",
       "Name: count, dtype: int64"
      ]
     },
     "execution_count": 542,
     "metadata": {},
     "output_type": "execute_result"
    }
   ],
   "source": [
    "mentalHealth['tech_company'].value_counts()"
   ]
  },
  {
   "cell_type": "code",
   "execution_count": 543,
   "id": "0ab1c37a",
   "metadata": {},
   "outputs": [
    {
     "data": {
      "text/plain": [
       "benefits\n",
       "Yes           466\n",
       "Don't know    400\n",
       "No            367\n",
       "Name: count, dtype: int64"
      ]
     },
     "execution_count": 543,
     "metadata": {},
     "output_type": "execute_result"
    }
   ],
   "source": [
    "mentalHealth['benefits'].value_counts()"
   ]
  },
  {
   "cell_type": "code",
   "execution_count": 544,
   "id": "9d7cac4b",
   "metadata": {},
   "outputs": [
    {
     "data": {
      "text/plain": [
       "care_options\n",
       "No          492\n",
       "Yes         434\n",
       "Not sure    307\n",
       "Name: count, dtype: int64"
      ]
     },
     "execution_count": 544,
     "metadata": {},
     "output_type": "execute_result"
    }
   ],
   "source": [
    "mentalHealth['care_options'].value_counts()"
   ]
  },
  {
   "cell_type": "code",
   "execution_count": 545,
   "id": "42486b83",
   "metadata": {},
   "outputs": [
    {
     "data": {
      "text/plain": [
       "wellness_program\n",
       "No            824\n",
       "Yes           227\n",
       "Don't know    182\n",
       "Name: count, dtype: int64"
      ]
     },
     "execution_count": 545,
     "metadata": {},
     "output_type": "execute_result"
    }
   ],
   "source": [
    "mentalHealth['wellness_program'].value_counts()"
   ]
  },
  {
   "cell_type": "code",
   "execution_count": 546,
   "id": "a8b3e40f",
   "metadata": {},
   "outputs": [
    {
     "data": {
      "text/plain": [
       "seek_help\n",
       "No            632\n",
       "Don't know    355\n",
       "Yes           246\n",
       "Name: count, dtype: int64"
      ]
     },
     "execution_count": 546,
     "metadata": {},
     "output_type": "execute_result"
    }
   ],
   "source": [
    "mentalHealth['seek_help'].value_counts()"
   ]
  },
  {
   "cell_type": "code",
   "execution_count": 547,
   "id": "8f01bcee",
   "metadata": {},
   "outputs": [
    {
     "data": {
      "text/plain": [
       "anonymity\n",
       "Don't know    802\n",
       "Yes           370\n",
       "No             61\n",
       "Name: count, dtype: int64"
      ]
     },
     "execution_count": 547,
     "metadata": {},
     "output_type": "execute_result"
    }
   ],
   "source": [
    "mentalHealth['anonymity'].value_counts()"
   ]
  },
  {
   "cell_type": "code",
   "execution_count": 548,
   "id": "ef9a3bc5",
   "metadata": {},
   "outputs": [
    {
     "data": {
      "text/plain": [
       "leave\n",
       "Don't know            552\n",
       "Somewhat easy         262\n",
       "Very easy             202\n",
       "Somewhat difficult    121\n",
       "Very difficult         96\n",
       "Name: count, dtype: int64"
      ]
     },
     "execution_count": 548,
     "metadata": {},
     "output_type": "execute_result"
    }
   ],
   "source": [
    "mentalHealth['leave'].value_counts()"
   ]
  },
  {
   "cell_type": "code",
   "execution_count": 549,
   "id": "04e893b3",
   "metadata": {},
   "outputs": [
    {
     "data": {
      "text/plain": [
       "mental_health_consequence\n",
       "No       476\n",
       "Maybe    471\n",
       "Yes      286\n",
       "Name: count, dtype: int64"
      ]
     },
     "execution_count": 549,
     "metadata": {},
     "output_type": "execute_result"
    }
   ],
   "source": [
    "mentalHealth['mental_health_consequence'].value_counts()"
   ]
  },
  {
   "cell_type": "code",
   "execution_count": 550,
   "id": "c89e3b74",
   "metadata": {},
   "outputs": [
    {
     "data": {
      "text/plain": [
       "phys_health_consequence\n",
       "No       905\n",
       "Maybe    272\n",
       "Yes       56\n",
       "Name: count, dtype: int64"
      ]
     },
     "execution_count": 550,
     "metadata": {},
     "output_type": "execute_result"
    }
   ],
   "source": [
    "mentalHealth['phys_health_consequence'].value_counts()"
   ]
  },
  {
   "cell_type": "code",
   "execution_count": 551,
   "id": "6f9aa3ec",
   "metadata": {},
   "outputs": [
    {
     "data": {
      "text/plain": [
       "coworkers\n",
       "Some of them    763\n",
       "No              256\n",
       "Yes             214\n",
       "Name: count, dtype: int64"
      ]
     },
     "execution_count": 551,
     "metadata": {},
     "output_type": "execute_result"
    }
   ],
   "source": [
    "mentalHealth['coworkers'].value_counts()"
   ]
  },
  {
   "cell_type": "code",
   "execution_count": 552,
   "id": "1001b7c7",
   "metadata": {},
   "outputs": [
    {
     "data": {
      "text/plain": [
       "supervisor\n",
       "Yes             501\n",
       "No              385\n",
       "Some of them    347\n",
       "Name: count, dtype: int64"
      ]
     },
     "execution_count": 552,
     "metadata": {},
     "output_type": "execute_result"
    }
   ],
   "source": [
    "mentalHealth['supervisor'].value_counts()"
   ]
  },
  {
   "cell_type": "code",
   "execution_count": 553,
   "id": "fa4a1e7a",
   "metadata": {},
   "outputs": [
    {
     "data": {
      "text/plain": [
       "mental_health_interview\n",
       "No       994\n",
       "Maybe    201\n",
       "Yes       38\n",
       "Name: count, dtype: int64"
      ]
     },
     "execution_count": 553,
     "metadata": {},
     "output_type": "execute_result"
    }
   ],
   "source": [
    "mentalHealth['mental_health_interview'].value_counts()"
   ]
  },
  {
   "cell_type": "code",
   "execution_count": 554,
   "id": "4af7e499",
   "metadata": {},
   "outputs": [
    {
     "data": {
      "text/plain": [
       "phys_health_interview\n",
       "Maybe    547\n",
       "No       490\n",
       "Yes      196\n",
       "Name: count, dtype: int64"
      ]
     },
     "execution_count": 554,
     "metadata": {},
     "output_type": "execute_result"
    }
   ],
   "source": [
    "mentalHealth['phys_health_interview'].value_counts()"
   ]
  },
  {
   "cell_type": "code",
   "execution_count": 555,
   "id": "d13371b8",
   "metadata": {},
   "outputs": [
    {
     "data": {
      "text/plain": [
       "mental_vs_physical\n",
       "Don't know    566\n",
       "Yes           336\n",
       "No            331\n",
       "Name: count, dtype: int64"
      ]
     },
     "execution_count": 555,
     "metadata": {},
     "output_type": "execute_result"
    }
   ],
   "source": [
    "mentalHealth['mental_vs_physical'].value_counts()"
   ]
  },
  {
   "cell_type": "code",
   "execution_count": 556,
   "id": "029d633e",
   "metadata": {},
   "outputs": [
    {
     "data": {
      "text/plain": [
       "obs_consequence\n",
       "No     1054\n",
       "Yes     179\n",
       "Name: count, dtype: int64"
      ]
     },
     "execution_count": 556,
     "metadata": {},
     "output_type": "execute_result"
    }
   ],
   "source": [
    "mentalHealth['obs_consequence'].value_counts()"
   ]
  },
  {
   "cell_type": "code",
   "execution_count": null,
   "id": "af225fbc",
   "metadata": {},
   "outputs": [],
   "source": []
  },
  {
   "cell_type": "markdown",
   "id": "04abe7ba",
   "metadata": {},
   "source": [
    "## Random data manipulation"
   ]
  },
  {
   "cell_type": "code",
   "execution_count": 562,
   "id": "02d01114",
   "metadata": {},
   "outputs": [
    {
     "data": {
      "text/plain": [
       "Age\n",
       "(26, 34]    562\n",
       "(18, 26]    283\n",
       "(34, 42]    275\n",
       "(42, 50]     80\n",
       "(50, 58]     20\n",
       "(58, 64]      4\n",
       "(64, 72]      2\n",
       "Name: count, dtype: int64"
      ]
     },
     "execution_count": 562,
     "metadata": {},
     "output_type": "execute_result"
    }
   ],
   "source": [
    "bins = [18,26,34,42,50,58,64,72]\n",
    "binnedAge = pd.cut(mentalHealth['Age'], bins)\n",
    "binnedAge.value_counts()"
   ]
  },
  {
   "cell_type": "code",
   "execution_count": null,
   "id": "a2cdaa1b",
   "metadata": {},
   "outputs": [],
   "source": []
  },
  {
   "cell_type": "markdown",
   "id": "0d9e35d9",
   "metadata": {},
   "source": [
    "## Graphs to visualize data distribution"
   ]
  },
  {
   "cell_type": "code",
   "execution_count": 557,
   "id": "e05194f8",
   "metadata": {},
   "outputs": [
    {
     "data": {
      "image/png": "[encoded data removed]",
      "text/plain": [
       "<Figure size 800x500 with 1 Axes>"
      ]
     },
     "metadata": {},
     "output_type": "display_data"
    }
   ],
   "source": [
    "plt.figure(figsize = (8,5))\n",
    "plt.title('How Many Received Treatment', fontsize=18, fontweight='bold')\n",
    "percentage = mentalHealth['treatment'].value_counts(normalize = True).rename_axis('treatment').reset_index(name = 'Percentage')\n",
    "\n",
    "ax = sns.barplot(x = 'treatment', y = 'Percentage', data = percentage, palette='Purples')"
   ]
  },
  {
   "cell_type": "code",
   "execution_count": 558,
   "id": "063c8489",
   "metadata": {},
   "outputs": [
    {
     "data": {
      "image/png": "[encoded data removed]",
      "text/plain": [
       "<Figure size 800x500 with 1 Axes>"
      ]
     },
     "metadata": {},
     "output_type": "display_data"
    }
   ],
   "source": [
    "plt.figure(figsize = (8,5))\n",
    "plt.title('Benefits Provided For Employees', fontsize=18, fontweight='bold')\n",
    "percentage = mentalHealth['benefits'].value_counts(normalize = True).rename_axis('benefits').reset_index(name = 'Percentage')\n",
    "\n",
    "ax = sns.barplot(x = 'benefits', y = 'Percentage', data = percentage, palette='Purples')"
   ]
  },
  {
   "cell_type": "code",
   "execution_count": null,
   "id": "b41c63be",
   "metadata": {},
   "outputs": [],
   "source": []
  },
  {
   "cell_type": "code",
   "execution_count": null,
   "id": "9d600fa8",
   "metadata": {},
   "outputs": [],
   "source": []
  }
 ],
 "metadata": {
  "kernelspec": {
   "display_name": "Python 3 (ipykernel)",
   "language": "python",
   "name": "python3"
  },
  "language_info": {
   "codemirror_mode": {
    "name": "ipython",
    "version": 3
   },
   "file_extension": ".py",
   "mimetype": "text/x-python",
   "name": "python",
   "nbconvert_exporter": "python",
   "pygments_lexer": "ipython3",
   "version": "3.11.5"
  }
 },
 "nbformat": 4,
 "nbformat_minor": 5
}
